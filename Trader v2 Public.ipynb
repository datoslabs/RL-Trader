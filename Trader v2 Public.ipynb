{
 "cells": [
  {
   "cell_type": "code",
   "execution_count": 1,
   "metadata": {},
   "outputs": [],
   "source": [
    "import math, random\n",
    "import gym\n",
    "import numpy as np\n",
    "import torch\n",
    "import torch.nn as nn\n",
    "import torch.optim as optim\n",
    "import torch.autograd as autograd\n",
    "import torch.nn.functional as F\n",
    "from torch.distributions import Categorical\n",
    "\n",
    "import pandas as pd \n",
    "\n",
    "%matplotlib inline\n",
    "import matplotlib.pyplot as plt\n",
    "\n",
    "from alpha_vantage.timeseries import TimeSeries\n",
    "# get API Key from https://www.alphavantage.co/\n",
    "alphavantage_api_key=\"\"\n"
   ]
  },
  {
   "cell_type": "code",
   "execution_count": 2,
   "metadata": {},
   "outputs": [
    {
     "data": {
      "text/plain": [
       "<torch._C.Generator at 0x175ea2fd3b0>"
      ]
     },
     "execution_count": 2,
     "metadata": {},
     "output_type": "execute_result"
    }
   ],
   "source": [
    "torch.manual_seed(34)"
   ]
  },
  {
   "cell_type": "markdown",
   "metadata": {},
   "source": [
    "# Retrieve data from Alpha Vantage\n",
    "\n",
    "Don't bother with this step if the data's already saved from the Pickle below."
   ]
  },
  {
   "cell_type": "code",
   "execution_count": 3,
   "metadata": {},
   "outputs": [],
   "source": [
    "def get_daily_adjusted (symbol, nickname=\"\"):\n",
    "    if len(nickname) > 0:\n",
    "        nickname = \"_\"+nickname\n",
    "    ts = TimeSeries(key=alphavantage_api_key, output_format='pandas')\n",
    "    data, meta_data = ts.get_daily_adjusted(symbol=symbol, outputsize='full')\n",
    "    data=data.rename(index=str, columns={\"date\":\"Date\",\"1. open\": \"Open\"+nickname, \"2. high\": \"High\"+nickname, \"3. low\":\"Low\"+nickname, \"4. close\":\"Close\"+nickname, \"5. adjusted close\":\"Adj. Close\"+nickname, \"6. volume\":\"Volume\"+nickname, \"7. dividend amount\":\"Dividend\"+nickname, \"8. split coefficient\":\"Split Ratio\"+nickname})\n",
    "    data.index = pd.to_datetime(data.index)\n",
    "    data.index.names = ['Date']\n",
    "    return data"
   ]
  },
  {
   "cell_type": "code",
   "execution_count": 4,
   "metadata": {},
   "outputs": [],
   "source": [
    "aapl = get_daily_adjusted(\"AAPL\")\n",
    "msft = get_daily_adjusted(\"MSFT\")"
   ]
  },
  {
   "cell_type": "code",
   "execution_count": 19,
   "metadata": {},
   "outputs": [
    {
     "data": {
      "text/html": [
       "<div>\n",
       "<style scoped>\n",
       "    .dataframe tbody tr th:only-of-type {\n",
       "        vertical-align: middle;\n",
       "    }\n",
       "\n",
       "    .dataframe tbody tr th {\n",
       "        vertical-align: top;\n",
       "    }\n",
       "\n",
       "    .dataframe thead th {\n",
       "        text-align: right;\n",
       "    }\n",
       "</style>\n",
       "<table border=\"1\" class=\"dataframe\">\n",
       "  <thead>\n",
       "    <tr style=\"text-align: right;\">\n",
       "      <th></th>\n",
       "      <th>Open</th>\n",
       "      <th>High</th>\n",
       "      <th>Low</th>\n",
       "      <th>Close</th>\n",
       "      <th>Adj. Close</th>\n",
       "      <th>Volume</th>\n",
       "      <th>Dividend</th>\n",
       "      <th>Split Ratio</th>\n",
       "    </tr>\n",
       "    <tr>\n",
       "      <th>Date</th>\n",
       "      <th></th>\n",
       "      <th></th>\n",
       "      <th></th>\n",
       "      <th></th>\n",
       "      <th></th>\n",
       "      <th></th>\n",
       "      <th></th>\n",
       "      <th></th>\n",
       "    </tr>\n",
       "  </thead>\n",
       "  <tbody>\n",
       "    <tr>\n",
       "      <th>1998-01-02</th>\n",
       "      <td>13.63</td>\n",
       "      <td>16.25</td>\n",
       "      <td>13.50</td>\n",
       "      <td>16.25</td>\n",
       "      <td>0.5103</td>\n",
       "      <td>6411700.0</td>\n",
       "      <td>0.0</td>\n",
       "      <td>1.0</td>\n",
       "    </tr>\n",
       "    <tr>\n",
       "      <th>1998-01-05</th>\n",
       "      <td>16.50</td>\n",
       "      <td>16.56</td>\n",
       "      <td>15.19</td>\n",
       "      <td>15.88</td>\n",
       "      <td>0.4987</td>\n",
       "      <td>5820300.0</td>\n",
       "      <td>0.0</td>\n",
       "      <td>1.0</td>\n",
       "    </tr>\n",
       "    <tr>\n",
       "      <th>1998-01-06</th>\n",
       "      <td>15.94</td>\n",
       "      <td>20.00</td>\n",
       "      <td>14.75</td>\n",
       "      <td>18.94</td>\n",
       "      <td>0.5948</td>\n",
       "      <td>16182800.0</td>\n",
       "      <td>0.0</td>\n",
       "      <td>1.0</td>\n",
       "    </tr>\n",
       "    <tr>\n",
       "      <th>1998-01-07</th>\n",
       "      <td>18.81</td>\n",
       "      <td>19.00</td>\n",
       "      <td>17.31</td>\n",
       "      <td>17.50</td>\n",
       "      <td>0.5496</td>\n",
       "      <td>9300200.0</td>\n",
       "      <td>0.0</td>\n",
       "      <td>1.0</td>\n",
       "    </tr>\n",
       "    <tr>\n",
       "      <th>1998-01-08</th>\n",
       "      <td>17.44</td>\n",
       "      <td>18.62</td>\n",
       "      <td>16.94</td>\n",
       "      <td>18.19</td>\n",
       "      <td>0.5713</td>\n",
       "      <td>6910900.0</td>\n",
       "      <td>0.0</td>\n",
       "      <td>1.0</td>\n",
       "    </tr>\n",
       "  </tbody>\n",
       "</table>\n",
       "</div>"
      ],
      "text/plain": [
       "             Open   High    Low  Close  Adj. Close      Volume  Dividend  \\\n",
       "Date                                                                       \n",
       "1998-01-02  13.63  16.25  13.50  16.25      0.5103   6411700.0       0.0   \n",
       "1998-01-05  16.50  16.56  15.19  15.88      0.4987   5820300.0       0.0   \n",
       "1998-01-06  15.94  20.00  14.75  18.94      0.5948  16182800.0       0.0   \n",
       "1998-01-07  18.81  19.00  17.31  17.50      0.5496   9300200.0       0.0   \n",
       "1998-01-08  17.44  18.62  16.94  18.19      0.5713   6910900.0       0.0   \n",
       "\n",
       "            Split Ratio  \n",
       "Date                     \n",
       "1998-01-02          1.0  \n",
       "1998-01-05          1.0  \n",
       "1998-01-06          1.0  \n",
       "1998-01-07          1.0  \n",
       "1998-01-08          1.0  "
      ]
     },
     "execution_count": 19,
     "metadata": {},
     "output_type": "execute_result"
    }
   ],
   "source": [
    "aapl.head()"
   ]
  },
  {
   "cell_type": "code",
   "execution_count": 20,
   "metadata": {},
   "outputs": [
    {
     "data": {
      "text/html": [
       "<div>\n",
       "<style scoped>\n",
       "    .dataframe tbody tr th:only-of-type {\n",
       "        vertical-align: middle;\n",
       "    }\n",
       "\n",
       "    .dataframe tbody tr th {\n",
       "        vertical-align: top;\n",
       "    }\n",
       "\n",
       "    .dataframe thead th {\n",
       "        text-align: right;\n",
       "    }\n",
       "</style>\n",
       "<table border=\"1\" class=\"dataframe\">\n",
       "  <thead>\n",
       "    <tr style=\"text-align: right;\">\n",
       "      <th></th>\n",
       "      <th>Open</th>\n",
       "      <th>High</th>\n",
       "      <th>Low</th>\n",
       "      <th>Close</th>\n",
       "      <th>Adj. Close</th>\n",
       "      <th>Volume</th>\n",
       "      <th>Dividend</th>\n",
       "      <th>Split Ratio</th>\n",
       "    </tr>\n",
       "    <tr>\n",
       "      <th>Date</th>\n",
       "      <th></th>\n",
       "      <th></th>\n",
       "      <th></th>\n",
       "      <th></th>\n",
       "      <th></th>\n",
       "      <th></th>\n",
       "      <th></th>\n",
       "      <th></th>\n",
       "    </tr>\n",
       "  </thead>\n",
       "  <tbody>\n",
       "    <tr>\n",
       "      <th>1998-01-02</th>\n",
       "      <td>129.63</td>\n",
       "      <td>131.50</td>\n",
       "      <td>129.50</td>\n",
       "      <td>131.13</td>\n",
       "      <td>10.7255</td>\n",
       "      <td>4968500.0</td>\n",
       "      <td>0.0</td>\n",
       "      <td>1.0</td>\n",
       "    </tr>\n",
       "    <tr>\n",
       "      <th>1998-01-05</th>\n",
       "      <td>131.25</td>\n",
       "      <td>133.63</td>\n",
       "      <td>127.87</td>\n",
       "      <td>130.38</td>\n",
       "      <td>10.6642</td>\n",
       "      <td>10047200.0</td>\n",
       "      <td>0.0</td>\n",
       "      <td>1.0</td>\n",
       "    </tr>\n",
       "    <tr>\n",
       "      <th>1998-01-06</th>\n",
       "      <td>129.75</td>\n",
       "      <td>133.00</td>\n",
       "      <td>129.25</td>\n",
       "      <td>131.13</td>\n",
       "      <td>10.7255</td>\n",
       "      <td>8479300.0</td>\n",
       "      <td>0.0</td>\n",
       "      <td>1.0</td>\n",
       "    </tr>\n",
       "    <tr>\n",
       "      <th>1998-01-07</th>\n",
       "      <td>129.88</td>\n",
       "      <td>131.19</td>\n",
       "      <td>127.50</td>\n",
       "      <td>129.56</td>\n",
       "      <td>10.5971</td>\n",
       "      <td>7686600.0</td>\n",
       "      <td>0.0</td>\n",
       "      <td>1.0</td>\n",
       "    </tr>\n",
       "    <tr>\n",
       "      <th>1998-01-08</th>\n",
       "      <td>128.63</td>\n",
       "      <td>132.13</td>\n",
       "      <td>127.50</td>\n",
       "      <td>130.50</td>\n",
       "      <td>10.6740</td>\n",
       "      <td>9702400.0</td>\n",
       "      <td>0.0</td>\n",
       "      <td>1.0</td>\n",
       "    </tr>\n",
       "  </tbody>\n",
       "</table>\n",
       "</div>"
      ],
      "text/plain": [
       "              Open    High     Low   Close  Adj. Close      Volume  Dividend  \\\n",
       "Date                                                                           \n",
       "1998-01-02  129.63  131.50  129.50  131.13     10.7255   4968500.0       0.0   \n",
       "1998-01-05  131.25  133.63  127.87  130.38     10.6642  10047200.0       0.0   \n",
       "1998-01-06  129.75  133.00  129.25  131.13     10.7255   8479300.0       0.0   \n",
       "1998-01-07  129.88  131.19  127.50  129.56     10.5971   7686600.0       0.0   \n",
       "1998-01-08  128.63  132.13  127.50  130.50     10.6740   9702400.0       0.0   \n",
       "\n",
       "            Split Ratio  \n",
       "Date                     \n",
       "1998-01-02          1.0  \n",
       "1998-01-05          1.0  \n",
       "1998-01-06          1.0  \n",
       "1998-01-07          1.0  \n",
       "1998-01-08          1.0  "
      ]
     },
     "execution_count": 20,
     "metadata": {},
     "output_type": "execute_result"
    }
   ],
   "source": [
    "msft.head()"
   ]
  },
  {
   "cell_type": "markdown",
   "metadata": {},
   "source": [
    "## Examine the data"
   ]
  },
  {
   "cell_type": "code",
   "execution_count": 21,
   "metadata": {},
   "outputs": [
    {
     "data": {
      "text/plain": [
       "[<matplotlib.lines.Line2D at 0x175fef9ca90>]"
      ]
     },
     "execution_count": 21,
     "metadata": {},
     "output_type": "execute_result"
    },
    {
     "data": {
      "image/png": "[encoded data removed]",
      "text/plain": [
       "<Figure size 432x288 with 1 Axes>"
      ]
     },
     "metadata": {
      "needs_background": "light"
     },
     "output_type": "display_data"
    }
   ],
   "source": [
    "plt.plot(range(0, len(msft[\"Adj. Close\"])), msft[\"Adj. Close\"])"
   ]
  },
  {
   "cell_type": "code",
   "execution_count": 22,
   "metadata": {},
   "outputs": [
    {
     "data": {
      "text/plain": [
       "[<matplotlib.lines.Line2D at 0x1758004b860>]"
      ]
     },
     "execution_count": 22,
     "metadata": {},
     "output_type": "execute_result"
    },
    {
     "data": {
      "image/png": "[encoded data removed]",
      "text/plain": [
       "<Figure size 432x288 with 1 Axes>"
      ]
     },
     "metadata": {
      "needs_background": "light"
     },
     "output_type": "display_data"
    }
   ],
   "source": [
    "plt.plot(range(0, len(aapl[\"Adj. Close\"])), aapl[\"Adj. Close\"])"
   ]
  },
  {
   "cell_type": "markdown",
   "metadata": {},
   "source": [
    "## Remove the general upwards trend.\n",
    "\n",
    "Now I'm going to de-trend the data. Otherwise MSFT and AAPL are on completely different scales and we could hardly expect the AI to learn how to trade apples and oranges together. Additionally, we want the AI to learn the fundamentals of the stock signal - buy if it's going to rise. If we didn't remove the trend, maybe it'd only learn to buy at the start and hold til the end since a general upwards trend happens.\n",
    "\n",
    "SciPy's signal processing module has a function that fits a linear least-squares model to the data and subtracts it for us."
   ]
  },
  {
   "cell_type": "code",
   "execution_count": 11,
   "metadata": {},
   "outputs": [],
   "source": [
    "from scipy import signal"
   ]
  },
  {
   "cell_type": "code",
   "execution_count": 29,
   "metadata": {},
   "outputs": [],
   "source": [
    "msft = msft['2014-01-01':]\n",
    "msft_close_detrended = signal.detrend(msft[\"Adj. Close\"])"
   ]
  },
  {
   "cell_type": "code",
   "execution_count": 30,
   "metadata": {},
   "outputs": [
    {
     "data": {
      "text/plain": [
       "[<matplotlib.lines.Line2D at 0x17580171668>]"
      ]
     },
     "execution_count": 30,
     "metadata": {},
     "output_type": "execute_result"
    },
    {
     "data": {
      "image/png": "[encoded data removed]",
      "text/plain": [
       "<Figure size 432x288 with 1 Axes>"
      ]
     },
     "metadata": {
      "needs_background": "light"
     },
     "output_type": "display_data"
    }
   ],
   "source": [
    "plt.plot(range(0,len(msft_close_detrended)), msft_close_detrended)"
   ]
  },
  {
   "cell_type": "code",
   "execution_count": 31,
   "metadata": {},
   "outputs": [],
   "source": [
    "msft_close_detrended_df = pd.DataFrame(index = msft.index, data = msft_close_detrended, columns=[\"Adj. Close\"])"
   ]
  },
  {
   "cell_type": "code",
   "execution_count": 32,
   "metadata": {},
   "outputs": [
    {
     "data": {
      "text/plain": [
       "[<matplotlib.lines.Line2D at 0x175801d9588>]"
      ]
     },
     "execution_count": 32,
     "metadata": {},
     "output_type": "execute_result"
    },
    {
     "data": {
      "image/png": "[encoded data removed]",
      "text/plain": [
       "<Figure size 432x288 with 1 Axes>"
      ]
     },
     "metadata": {
      "needs_background": "light"
     },
     "output_type": "display_data"
    }
   ],
   "source": [
    "aapl = aapl['2014-01-01':]\n",
    "aapl_close_detrended = signal.detrend(aapl[\"Adj. Close\"])\n",
    "plt.plot(range(0,len(aapl_close_detrended)), aapl_close_detrended)"
   ]
  },
  {
   "cell_type": "code",
   "execution_count": 33,
   "metadata": {},
   "outputs": [],
   "source": [
    "aapl_close_detrended_df = pd.DataFrame(index = aapl.index, data = aapl_close_detrended, columns=[\"Adj. Close\"])"
   ]
  },
  {
   "cell_type": "markdown",
   "metadata": {},
   "source": [
    "## Negative values?\n",
    "\n",
    "It doesn't make sense to buy a share at a negative value. But since the model will learn to maximize reward, we can just shift it up by a constant number so it's always positive."
   ]
  },
  {
   "cell_type": "code",
   "execution_count": 34,
   "metadata": {},
   "outputs": [
    {
     "name": "stdout",
     "output_type": "stream",
     "text": [
      "-14.700703607472342\n",
      "-42.18154263124123\n"
     ]
    }
   ],
   "source": [
    "print(msft_close_detrended_df[\"Adj. Close\"].min())\n",
    "print(aapl_close_detrended_df[\"Adj. Close\"].min())"
   ]
  },
  {
   "cell_type": "markdown",
   "metadata": {},
   "source": [
    "Choose 43"
   ]
  },
  {
   "cell_type": "code",
   "execution_count": 36,
   "metadata": {},
   "outputs": [],
   "source": [
    "adj = 43\n",
    "apl_close += adj\n",
    "msf_close += adj"
   ]
  },
  {
   "cell_type": "code",
   "execution_count": 37,
   "metadata": {},
   "outputs": [],
   "source": [
    "apl_train, apl_test = aapl[:'2018-08-20'], aapl['2018-08-21':]\n",
    "msf_train, msf_test = msft[:'2018-08-20'], msft['2018-08-21':]"
   ]
  },
  {
   "cell_type": "code",
   "execution_count": 39,
   "metadata": {},
   "outputs": [
    {
     "name": "stdout",
     "output_type": "stream",
     "text": [
      "True\n",
      "True\n"
     ]
    }
   ],
   "source": [
    "print(len(apl_train) == len(msf_train))\n",
    "print(len(apl_test) == len(msf_test))"
   ]
  },
  {
   "cell_type": "code",
   "execution_count": 45,
   "metadata": {},
   "outputs": [],
   "source": [
    "apl_close = apl_train[\"Adj. Close\"].values\n",
    "msf_close = msf_train[\"Adj. Close\"].values"
   ]
  },
  {
   "cell_type": "code",
   "execution_count": 46,
   "metadata": {},
   "outputs": [
    {
     "data": {
      "text/plain": [
       "[<matplotlib.lines.Line2D at 0x175802d0780>]"
      ]
     },
     "execution_count": 46,
     "metadata": {},
     "output_type": "execute_result"
    },
    {
     "data": {
      "image/png": "[encoded data removed]",
      "text/plain": [
       "<Figure size 432x288 with 1 Axes>"
      ]
     },
     "metadata": {
      "needs_background": "light"
     },
     "output_type": "display_data"
    }
   ],
   "source": [
    "plt.plot(range(0,len(apl_close)), apl_close)"
   ]
  },
  {
   "cell_type": "markdown",
   "metadata": {},
   "source": [
    "## Save the transformed data"
   ]
  },
  {
   "cell_type": "code",
   "execution_count": 47,
   "metadata": {},
   "outputs": [],
   "source": [
    "import pickle\n",
    "with open(\"aplmsfopenclose.pkl\", \"wb+\") as f:\n",
    "    pickle.dump({\"ac\": apl_close, \"mc\": msf_close}, f)"
   ]
  },
  {
   "cell_type": "markdown",
   "metadata": {},
   "source": [
    "## If the data's already saved, skip the above and load it here instead"
   ]
  },
  {
   "cell_type": "code",
   "execution_count": 48,
   "metadata": {},
   "outputs": [],
   "source": [
    "import pickle\n",
    "with open(\"aplmsfopenclose.pkl\", \"rb\") as f:\n",
    "    d = pickle.load(f)\n",
    "\n",
    "apl_close = d[\"ac\"]\n",
    "msf_close = d[\"mc\"]"
   ]
  },
  {
   "cell_type": "code",
   "execution_count": 49,
   "metadata": {},
   "outputs": [
    {
     "data": {
      "text/plain": [
       "[<matplotlib.lines.Line2D at 0x17580336908>]"
      ]
     },
     "execution_count": 49,
     "metadata": {},
     "output_type": "execute_result"
    },
    {
     "data": {
      "image/png": "[encoded data removed]",
      "text/plain": [
       "<Figure size 432x288 with 1 Axes>"
      ]
     },
     "metadata": {
      "needs_background": "light"
     },
     "output_type": "display_data"
    }
   ],
   "source": [
    "plt.plot(range(0,len(apl_close)), apl_close)"
   ]
  },
  {
   "cell_type": "markdown",
   "metadata": {},
   "source": [
    "# Build the environment\n",
    "\n",
    "* <b>I changed the environment to act/transact based on closing price instead of opening price.  The value of closing price is more reliable/stable/rigor then opening price.  The original algorithm act/transact based on opening price and calculates portofolio based on closing price.</b>\n",
    "* For starting cash, we can't use a dollar value because of the transformed data. After shifting earlier, we know the mean of each closing price should be 43, so I'm starting the agent off with enough cash to buy ~2.5 shares.\n",
    "* This starting cash is the mean starting cash; it can be randomized by altering the std parameter\n",
    "* action space = 0 buy apple, 1 sell apple, 2 do nothing, 3 buy msft, 4 sell msft, quantity. eg. [0, 100]\n",
    "* obs space: apl shares, msft shares, cash in bank [2], today apl close [3], today msf close [4], portfolio value [5], 5 day window [6apl, 7msf] = 8\n",
    "* If bot gets to the end with more than one of each share, we give it a bonus for having a diversified portfolio!\n",
    "* Buys and sells attract a 10% brokerage fee\n",
    "<br>\n",
    "<li><b>TODO:</b>\n",
    "    <ol>\n",
    "        <li>In step function, change gain calculation to be based on future unrealized gains/loses, original code \"gain = cur_value - self.starting_portfolio_value\" seems to be calculating cumulative gains based on past actions.</li>\n",
    "        <li>Calculate portfolio value based on actual undetrended closing prices</li>\n",
    "        <li>Determine if reward should be calculated based on inaction_penalty-ts_left+gain</li>\n",
    "        <li>Fix how bankrupt state is calculated.  Should be when portfolio value &lt; 0</li>\n",
    "        <li>Introduce short sell and interest rate for holding short position</li>\n",
    "    </ol>\n",
    "</li>"
   ]
  },
  {
   "cell_type": "code",
   "execution_count": 51,
   "metadata": {},
   "outputs": [],
   "source": [
    "class TradingEnvironment():\n",
    "\n",
    "    def __init__(self, starting_cash_mean=200., max_stride=5, series_length=208, starting_point=1, randomize_cash_std=0, \\\n",
    "                 starting_shares_mean=0., randomize_shares_std=0., inaction_penalty=0.):\n",
    "        self.starting_shares_mean = starting_shares_mean\n",
    "        self.randomize_shares_std = randomize_shares_std\n",
    "        self.starting_cash_mean = starting_cash_mean\n",
    "        self.randomize_cash_std = randomize_cash_std\n",
    "        \n",
    "        #self.state = torch.FloatTensor(torch.zeros(8)).cuda()\n",
    "        self.state = torch.FloatTensor(torch.zeros(8))\n",
    "        \n",
    "        self.starting_cash = max(int(np.random.normal(self.starting_cash_mean, self.randomize_cash_std)), 0.)\n",
    "        \n",
    "        self.series_length = series_length\n",
    "        self.starting_point = starting_point\n",
    "        self.cur_timestep = self.starting_point\n",
    "        \n",
    "        self.state[0] = max(int(np.random.normal(self.starting_shares_mean, self.randomize_shares_std)), 0.)\n",
    "        self.state[1] = max(int(np.random.normal(self.starting_shares_mean, self.randomize_shares_std)), 0.)\n",
    "        self.starting_portfolio_value = self.portfolio_value()\n",
    "        self.state[2] = self.starting_cash\n",
    "        self.state[3] = apl_close[self.cur_timestep]\n",
    "        self.state[4] = msf_close[self.cur_timestep]\n",
    "        self.state[5] = self.starting_portfolio_value\n",
    "        self.state[6] = self.five_day_window()[0]\n",
    "        self.state[7] = self.five_day_window()[1]\n",
    "        \n",
    "        self.max_stride = max_stride\n",
    "        self.stride = self.max_stride # no longer varying it\n",
    "        \n",
    "        self.done = False\n",
    "        self.diversification_bonus = 1.\n",
    "        self.inaction_penalty = inaction_penalty\n",
    "    \n",
    "    def portfolio_value(self):\n",
    "        return (self.state[0] * apl_close[self.cur_timestep]) + (self.state[1] * msf_close[self.cur_timestep]) + self.state[2]\n",
    "    \n",
    "    def next_closing_price(self):\n",
    "        step = self.cur_timestep + self.stride\n",
    "        return [apl_close[step], msf_close[step]]\n",
    "    \n",
    "    def five_day_window(self):\n",
    "        step = self.cur_timestep\n",
    "        if step < 5:\n",
    "            return [apl_close[0], msf_close[0]]\n",
    "        apl5 = apl_close[step-5:step].mean()\n",
    "        msf5 = msf_close[step-5:step].mean()\n",
    "        return [apl5, msf5]\n",
    "    \n",
    "    def step(self, action):\n",
    "        action = [action, 1.]\n",
    "        cur_timestep = self.cur_timestep\n",
    "        ts_left = self.series_length - (cur_timestep - self.starting_point)\n",
    "        retval = None\n",
    "        cur_value = self.portfolio_value()\n",
    "        gain = cur_value - self.starting_portfolio_value\n",
    "        \n",
    "        if cur_timestep >= self.starting_point + (self.series_length * self.stride):\n",
    "            new_state = [self.state[0], self.state[1], self.state[2], *self.next_closing_price(), \\\n",
    "                        cur_value, *self.five_day_window()]\n",
    "            self.state = new_state\n",
    "            bonus = 0.\n",
    "            if self.state[0] > 0 and self.state[1] > 0:\n",
    "                bonus = self.diversification_bonus\n",
    "            return new_state, cur_value + bonus + gain, True, { \"msg\": \"done\"}\n",
    "\n",
    "        # Do nothing\n",
    "        if action[0] == 2:\n",
    "            new_state = [self.state[0], self.state[1], self.state[2], *self.next_closing_price(), \\\n",
    "                    cur_value, *self.five_day_window()]\n",
    "            self.state = new_state\n",
    "            retval = new_state, -self.inaction_penalty-ts_left +gain, False, { \"msg\": \"nothing\" }\n",
    "            \n",
    "        #Buy AAPL\n",
    "        if action[0] == 0:\n",
    "            if action[1] * apl_close[cur_timestep] > self.state[2]:\n",
    "                new_state = [self.state[0], self.state[1], self.state[2], *self.next_closing_price(), \\\n",
    "                        cur_value, *self.five_day_window()]\n",
    "                self.state = new_state\n",
    "                retval = new_state, -ts_left+gain/2, True, { \"msg\": \"bankrupted self\"}\n",
    "            else:\n",
    "                apl_shares = self.state[0] + action[1]\n",
    "                cash_spent = action[1] * apl_close[cur_timestep] * 1.1\n",
    "                new_state = [apl_shares, self.state[1], self.state[2] - cash_spent, *self.next_closing_price(), \\\n",
    "                       cur_value, *self.five_day_window()]\n",
    "                self.state = new_state\n",
    "                retval = new_state, self.inaction_penalty-ts_left+gain, False, { \"msg\": \"bought AAPL\"}\n",
    "                \n",
    "        # Buy MSFT        \n",
    "        if action[0] == 3:\n",
    "            # not enough cash to buy 1 share of MSFT\n",
    "            if action[1] * msf_close[cur_timestep] > self.state[2]:\n",
    "                new_state = [self.state[0], self.state[1], self.state[2], *self.next_closing_price(), \\\n",
    "                        cur_value, *self.five_day_window()]\n",
    "                self.state = new_state\n",
    "                # TODO why is this the bankrupt state?  Shouldn't bankrupt state = true when portfolio value < 0?\n",
    "                retval =  new_state, -ts_left+gain/2, True, { \"msg\": \"bankrupted self\"} \n",
    "            else:\n",
    "                # TODO why is action[1] hard coded to 1?\n",
    "                msf_shares = self.state[1] + action[1]\n",
    "                cash_spent = action[1] * msf_close[cur_timestep] * 1.1\n",
    "                new_state = [self.state[0], msf_shares, self.state[2] - cash_spent, *self.next_closing_price(), \\\n",
    "                       cur_value, *self.five_day_window()]\n",
    "                self.state = new_state\n",
    "                # TODO why is the reward calculated as inaction_penalty-ts_left+gain?\n",
    "                # gain is calculated based on the performance of past ations, shouldn't it be based on the value of current action?\n",
    "                retval = new_state, self.inaction_penalty-ts_left+gain, False, { \"msg\": \"bought MSFT\"}\n",
    "        \n",
    "        # Sell AAPL\n",
    "        if action[0] == 1:\n",
    "            if action[1] > self.state[0]:\n",
    "                new_state = [self.state[0], self.state[1], self.state[2], *self.next_closing_price(), \\\n",
    "                        cur_value, *self.five_day_window()]\n",
    "                self.state = new_state\n",
    "                retval = new_state, -ts_left+gain/2, True, { \"msg\": \"sold more than have\"}\n",
    "            else:\n",
    "                apl_shares = self.state[0] - action[1]\n",
    "                cash_gained = action[1] * apl_close[cur_timestep] * 0.9\n",
    "                new_state = [apl_shares, self.state[1], self.state[2] + cash_gained, *self.next_closing_price(), \\\n",
    "                       cur_value, *self.five_day_window()]\n",
    "                self.state = new_state\n",
    "                retval = new_state, self.inaction_penalty-ts_left+gain, False, { \"msg\": \"sold AAPL\"}\n",
    "                \n",
    "        # Sell MSFT        \n",
    "        if action[0] == 4:\n",
    "            if action[1] > self.state[1]:\n",
    "                new_state = [self.state[0], self.state[1], self.state[2], *self.next_closing_price(), \\\n",
    "                        cur_value, *self.five_day_window()]\n",
    "                self.state = new_state\n",
    "                retval = new_state, -ts_left+gain/2, True, { \"msg\": \"sold more than have\"}\n",
    "            else:\n",
    "                msf_shares = self.state[1] - action[1]\n",
    "                cash_gained = action[1] * msf_close[cur_timestep] * 0.9\n",
    "                new_state = [self.state[0], msf_shares, self.state[2] + cash_gained, *self.next_closing_price(), \\\n",
    "                       cur_value, *self.five_day_window()]\n",
    "                self.state = new_state\n",
    "                retval = new_state, self.inaction_penalty-ts_left+gain, False, { \"msg\": \"sold MSFT\"}\n",
    "                \n",
    "        self.cur_timestep += self.stride\n",
    "        return retval\n",
    "    \n",
    "    def reset(self):\n",
    "        #self.state = torch.FloatTensor(torch.zeros(8)).cuda()\n",
    "        self.state = torch.FloatTensor(torch.zeros(8))\n",
    "        self.starting_cash = max(int(np.random.normal(self.starting_cash_mean, self.randomize_cash_std)), 0.)\n",
    "        self.cur_timestep = self.starting_point\n",
    "        self.state[0] = max(int(np.random.normal(self.starting_shares_mean, self.randomize_shares_std)), 0.)\n",
    "        self.state[1] = max(int(np.random.normal(self.starting_shares_mean, self.randomize_shares_std)), 0.)\n",
    "        self.state[2] = self.starting_cash\n",
    "        self.state[3] = apl_close[self.cur_timestep]\n",
    "        self.state[4] = msf_close[self.cur_timestep]\n",
    "        self.starting_portfolio_value = self.portfolio_value()\n",
    "        self.state[5] = self.starting_portfolio_value\n",
    "        self.state[6] = self.five_day_window()[0]\n",
    "        self.state[7] = self.five_day_window()[1]       \n",
    "        self.done = False\n",
    "        return self.state"
   ]
  },
  {
   "cell_type": "code",
   "execution_count": 52,
   "metadata": {},
   "outputs": [],
   "source": [
    "class Policy(nn.Module):\n",
    "    def __init__(self):\n",
    "        super(Policy, self).__init__()\n",
    "        self.input_layer = nn.Linear(8, 128)\n",
    "        self.hidden_1 = nn.Linear(128, 128)\n",
    "        self.hidden_2 = nn.Linear(32,31)\n",
    "        #self.hidden_state = torch.tensor(torch.zeros(2,1,32)).cuda()\n",
    "        self.hidden_state = torch.tensor(torch.zeros(2,1,32))\n",
    "        self.rnn = nn.GRU(128, 32, 2)\n",
    "        self.action_head = nn.Linear(31, 5)\n",
    "        self.value_head = nn.Linear(31, 1)\n",
    "        self.saved_actions = []\n",
    "        self.rewards = []\n",
    "\n",
    "    def reset_hidden(self):\n",
    "        #self.hidden_state = torch.tensor(torch.zeros(2,1,32)).cuda()\n",
    "        self.hidden_state = torch.tensor(torch.zeros(2,1,32))\n",
    "        \n",
    "    def forward(self, x):\n",
    "        #x = torch.tensor(x).cuda()\n",
    "        x = torch.tensor(x)\n",
    "        x = torch.sigmoid(self.input_layer(x))\n",
    "        x = torch.tanh(self.hidden_1(x))\n",
    "        x, self.hidden_state = self.rnn(x.view(1,-1,128), self.hidden_state.data)\n",
    "        x = F.relu(self.hidden_2(x.squeeze()))\n",
    "        action_scores = self.action_head(x)\n",
    "        state_values = self.value_head(x)\n",
    "        return F.softmax(action_scores, dim=-1), state_values\n",
    "    \n",
    "    def act(self, state):\n",
    "        probs, state_value = self.forward(state)\n",
    "        m = Categorical(probs)\n",
    "        action = m.sample()\n",
    "        #if action == 1 and env.state[0] < 1: action = torch.LongTensor([2]).squeeze().cuda()\n",
    "        #if action == 4 and env.state[1] < 1: action = torch.LongTensor([2]).squeeze().cuda()\n",
    "        if action == 1 and env.state[0] < 1: action = torch.LongTensor([2]).squeeze()\n",
    "        if action == 4 and env.state[1] < 1: action = torch.LongTensor([2]).squeeze()\n",
    "        self.saved_actions.append((m.log_prob(action), state_value))\n",
    "        return action.item()"
   ]
  },
  {
   "cell_type": "code",
   "execution_count": 53,
   "metadata": {},
   "outputs": [
    {
     "name": "stderr",
     "output_type": "stream",
     "text": [
      "C:\\ProgramData\\Anaconda3\\envs\\TF\\lib\\site-packages\\ipykernel_launcher.py:8: UserWarning: To copy construct from a tensor, it is recommended to use sourceTensor.clone().detach() or sourceTensor.clone().detach().requires_grad_(True), rather than torch.tensor(sourceTensor).\n",
      "  \n"
     ]
    }
   ],
   "source": [
    "env = TradingEnvironment(max_stride=4, series_length=250, starting_cash_mean=1000, randomize_cash_std=100, starting_shares_mean=100, randomize_shares_std=10)\n",
    "model = Policy()\n",
    "optimizer = optim.Adam(model.parameters(), lr=3e-4)"
   ]
  },
  {
   "cell_type": "code",
   "execution_count": 55,
   "metadata": {},
   "outputs": [
    {
     "name": "stderr",
     "output_type": "stream",
     "text": [
      "C:\\ProgramData\\Anaconda3\\envs\\TF\\lib\\site-packages\\ipykernel_launcher.py:21: UserWarning: To copy construct from a tensor, it is recommended to use sourceTensor.clone().detach() or sourceTensor.clone().detach().requires_grad_(True), rather than torch.tensor(sourceTensor).\n",
      "C:\\ProgramData\\Anaconda3\\envs\\TF\\lib\\site-packages\\ipykernel_launcher.py:29: UserWarning: To copy construct from a tensor, it is recommended to use sourceTensor.clone().detach() or sourceTensor.clone().detach().requires_grad_(True), rather than torch.tensor(sourceTensor).\n"
     ]
    },
    {
     "name": "stdout",
     "output_type": "stream",
     "text": [
      "Episode 0: started at 11445.1, finished at 22303.0 because bankrupted self @ t=961, last reward 6076.0, running reward 101.3\n",
      "Early Stopping: 36695\n"
     ]
    }
   ],
   "source": [
    "env.reset()\n",
    "# In case you're running this a second time with the same model, delete the gradients\n",
    "del model.rewards[:]\n",
    "del model.saved_actions[:]\n",
    "\n",
    "gamma = 0.9\n",
    "log_interval = 60\n",
    "\n",
    "def finish_episode():\n",
    "    R = 0\n",
    "    saved_actions = model.saved_actions\n",
    "    policy_losses = []\n",
    "    value_losses = []\n",
    "    rewards = []\n",
    "    for r in model.rewards[::-1]:\n",
    "        R = r + (gamma * R)\n",
    "        rewards.insert(0, R)\n",
    "    rewards = torch.tensor(rewards)\n",
    "    \n",
    "    epsilon = (torch.rand(1) / 1e4) - 5e-5\n",
    "    # With different architectures, I found the following standardization step sometimes\n",
    "    # helpful, sometimes unhelpful.\n",
    "    # rewards = (rewards - rewards.mean()) / (rewards.std(unbiased=False) + epsilon)\n",
    "    # Alternatively, comment it out and use the following line instead:\n",
    "    rewards += epsilon\n",
    "    \n",
    "    for (log_prob, value), r in zip(saved_actions, rewards):\n",
    "        #reward = torch.tensor(r - value.item()).cuda()\n",
    "        reward = torch.tensor(r - value.item())\n",
    "        policy_losses.append(-log_prob * reward)\n",
    "        #value_losses.append(F.smooth_l1_loss(value, torch.tensor([r]).cuda()))\n",
    "        value_losses.append(F.smooth_l1_loss(value, torch.tensor([r])))\n",
    "        \n",
    "    optimizer.zero_grad()\n",
    "    loss = torch.stack(policy_losses).sum() + torch.stack(value_losses).sum()\n",
    "    loss = torch.clamp(loss, -1e-5, 1e5)\n",
    "    loss.backward()\n",
    "    optimizer.step()\n",
    "    del model.rewards[:]\n",
    "    del model.saved_actions[:]\n",
    "\n",
    "running_reward = 0\n",
    "for episode in range(0, 4000):\n",
    "#for episode in range(0, 1):\n",
    "    state = env.reset()\n",
    "    reward = 0\n",
    "    done = False\n",
    "    msg = None\n",
    "    i=0\n",
    "    while not done:\n",
    "        action = model.act(state)\n",
    "        state, reward, done, msg = env.step(action)\n",
    "        model.rewards.append(reward)\n",
    "        if done:\n",
    "            break\n",
    "    running_reward = running_reward * (1 - 1/log_interval) + reward * (1/log_interval)\n",
    "    finish_episode()\n",
    "    # Resetting the hidden state seems unnecessary - it's effectively random from the previous\n",
    "    # episode anyway, more random than a bunch of zeros.\n",
    "    # model.reset_hidden()\n",
    "    if msg[\"msg\"] == \"done\" and env.portfolio_value() > env.starting_portfolio_value * 1.1 and running_reward > 500:\n",
    "        print(\"Early Stopping: \" + str(int(reward)))\n",
    "        break\n",
    "    if episode % log_interval == 0:\n",
    "        print(\"\"\"Episode {}: started at {:.1f}, finished at {:.1f} because {} @ t={}, \\\n",
    "last reward {:.1f}, running reward {:.1f}\"\"\".format(episode, env.starting_portfolio_value, \\\n",
    "              env.portfolio_value(), msg[\"msg\"], env.cur_timestep, reward, running_reward))"
   ]
  },
  {
   "cell_type": "markdown",
   "metadata": {},
   "source": [
    "## Let's see how it does in practice, on the training data"
   ]
  },
  {
   "cell_type": "code",
   "execution_count": 56,
   "metadata": {},
   "outputs": [
    {
     "name": "stderr",
     "output_type": "stream",
     "text": [
      "C:\\ProgramData\\Anaconda3\\envs\\TF\\lib\\site-packages\\ipykernel_launcher.py:21: UserWarning: To copy construct from a tensor, it is recommended to use sourceTensor.clone().detach() or sourceTensor.clone().detach().requires_grad_(True), rather than torch.tensor(sourceTensor).\n"
     ]
    },
    {
     "name": "stdout",
     "output_type": "stream",
     "text": [
      "Failed goes: 46 / 50, Avg Rewards per successful game: 23630.791015625\n",
      "Avg % profit per game: 0.5155870914459229\n",
      "Avg % profit per finished game: 6.444839000701904\n"
     ]
    }
   ],
   "source": [
    "env = TradingEnvironment(max_stride=4, series_length=250, starting_cash_mean=1000, randomize_cash_std=100, starting_shares_mean=100, randomize_shares_std=10)\n",
    "\n",
    "total_rewards = 0\n",
    "total_profits = 0\n",
    "failed_goes = 0\n",
    "num_goes = 50\n",
    "\n",
    "for j in range(num_goes):\n",
    "    env.reset()\n",
    "    reward_this_go = -1e8\n",
    "    for i in range(0,env.series_length + 1):\n",
    "        action = model.act(env.state)\n",
    "        next_state, reward, done, msg = env.step(action)\n",
    "        if msg[\"msg\"] == \"done\":\n",
    "            reward_this_go = env.portfolio_value()\n",
    "            break\n",
    "        if done:\n",
    "            break\n",
    "    total_profits += (env.portfolio_value() - env.starting_portfolio_value) / env.starting_portfolio_value\n",
    "    if reward_this_go == -1e8:\n",
    "        failed_goes += 1\n",
    "    else:\n",
    "        total_rewards += reward_this_go\n",
    "\n",
    "if failed_goes == num_goes:\n",
    "    print(\"Failed all\")\n",
    "else:\n",
    "    print(\"Failed goes: {} / {}, Avg Rewards per successful game: {}\".format(failed_goes, num_goes, total_rewards / (num_goes - failed_goes)))\n",
    "    print(\"Avg % profit per game: {}\".format(total_profits / num_goes))\n",
    "    print(\"Avg % profit per finished game: {}\".format(total_profits / (num_goes - failed_goes)))"
   ]
  },
  {
   "cell_type": "markdown",
   "metadata": {},
   "source": [
    "## And here's how a sample trading run might look"
   ]
  },
  {
   "cell_type": "code",
   "execution_count": null,
   "metadata": {},
   "outputs": [],
   "source": [
    "env = TradingEnvironment(max_stride=4, series_length=250, starting_cash_mean=1000, randomize_cash_std=100, starting_shares_mean=100, randomize_shares_std=10)\n",
    "env.reset()\n",
    "print(\"starting portfolio value {}\".format(env.portfolio_value()))\n",
    "for i in range(0,env.series_length + 1):\n",
    "    action = model.act(env.state)\n",
    "    next_state, reward, done, msg = env.step(action)\n",
    "    if msg[\"msg\"] == 'bankrupted self':\n",
    "        print('bankrupted self by 1')\n",
    "        break\n",
    "    if msg[\"msg\"] == 'sold more than have':\n",
    "        print('sold more than have by 1')\n",
    "        break\n",
    "    print(\"{}, have {} aapl and {} msft and {} cash\".format(msg[\"msg\"], next_state[0], next_state[1], next_state[2]))\n",
    "    if msg[\"msg\"] == \"done\":\n",
    "        print(next_state, reward)\n",
    "        print(\"total portfolio value {}\".format(env.portfolio_value()))\n",
    "        break"
   ]
  },
  {
   "cell_type": "code",
   "execution_count": null,
   "metadata": {},
   "outputs": [],
   "source": [
    "apl_open_orig = apl_stock[\"Open\"].values\n",
    "apl_close_orig = apl_stock[\"Close\"].values\n",
    "msf_open_orig = msf_stock[\"Open\"].values\n",
    "msf_close_orig = msf_stock[\"Close\"].values\n",
    "apl_open_orig[:108] /= 7\n",
    "apl_close_orig[:108] /= 7"
   ]
  },
  {
   "cell_type": "code",
   "execution_count": null,
   "metadata": {},
   "outputs": [],
   "source": [
    "env = TradingEnvironment(max_stride=4, series_length=250, starting_cash_mean=1000, randomize_cash_std=100, starting_shares_mean=100, randomize_shares_std=10)\n",
    "env.reset()\n",
    "complete_game = False\n",
    "while not complete_game:\n",
    "    bought_apl_at = []\n",
    "    bought_msf_at = []\n",
    "    sold_apl_at = []\n",
    "    sold_msf_at = []\n",
    "    bought_apl_at_orig = []\n",
    "    bought_msf_at_orig = []\n",
    "    sold_apl_at_orig = []\n",
    "    sold_msf_at_orig = []\n",
    "    nothing_at = []\n",
    "    ba_action_times = []\n",
    "    bm_action_times = []\n",
    "    sa_action_times = []\n",
    "    sm_action_times = []\n",
    "    n_action_times = []\n",
    "    starting_val = env.starting_portfolio_value\n",
    "    print(\"Starting portfolio value: {}\".format(starting_val))\n",
    "    for i in range(0,env.series_length + 1):\n",
    "        action = model.act(env.state)\n",
    "        if action == 0:\n",
    "            bought_apl_at.append(apl_open[env.cur_timestep])\n",
    "            bought_apl_at_orig.append(apl_open_orig[env.cur_timestep])\n",
    "            ba_action_times.append(env.cur_timestep)\n",
    "        if action == 1:\n",
    "            sold_apl_at.append(apl_close[env.cur_timestep])\n",
    "            sold_apl_at_orig.append(apl_close_orig[env.cur_timestep])\n",
    "            sa_action_times.append(env.cur_timestep)\n",
    "        if action == 2:\n",
    "            nothing_at.append(35)\n",
    "            n_action_times.append(env.cur_timestep)\n",
    "        if action == 3:\n",
    "            bought_msf_at.append(msf_open[env.cur_timestep])\n",
    "            bought_msf_at_orig.append(msf_open_orig[env.cur_timestep])\n",
    "            bm_action_times.append(env.cur_timestep)\n",
    "        if action == 4:\n",
    "            sold_msf_at.append(msf_close[env.cur_timestep])\n",
    "            sold_msf_at_orig.append(msf_close_orig[env.cur_timestep])\n",
    "            sm_action_times.append(env.cur_timestep)\n",
    "        next_state, reward, done, msg = env.step(action)\n",
    "        if msg[\"msg\"] == 'bankrupted self':\n",
    "            env.reset()\n",
    "            break\n",
    "        if msg[\"msg\"] == 'sold more than have':\n",
    "            env.reset()\n",
    "            break\n",
    "        if msg[\"msg\"] == \"done\":\n",
    "            print(\"{}, have {} aapl and {} msft and {} cash\".format(msg[\"msg\"], next_state[0], next_state[1], next_state[2]))\n",
    "            val = env.portfolio_value()\n",
    "            print(\"Finished portfolio value {}\".format(val))\n",
    "            if val > starting_val * 1.1: complete_game = True\n",
    "            env.reset()\n",
    "            break"
   ]
  },
  {
   "cell_type": "code",
   "execution_count": null,
   "metadata": {},
   "outputs": [],
   "source": [
    "plt.figure(1, figsize=(14,5))\n",
    "apl = plt.subplot(121)\n",
    "msf = plt.subplot(122)\n",
    "apl.plot(range(0, len(apl_open)), apl_open)\n",
    "msf.plot(range(0, len(msf_open)), msf_open)\n",
    "apl.plot(ba_action_times, bought_apl_at, \"ro\")\n",
    "apl.plot(sa_action_times, sold_apl_at, \"go\")\n",
    "apl.plot(n_action_times, nothing_at, \"yx\")\n",
    "msf.plot(n_action_times, nothing_at, \"yx\")\n",
    "msf.plot(bm_action_times, bought_msf_at, \"ro\")\n",
    "msf.plot(sm_action_times, sold_msf_at, \"go\")"
   ]
  },
  {
   "cell_type": "code",
   "execution_count": null,
   "metadata": {},
   "outputs": [],
   "source": [
    "plt.figure(1, figsize=(14,5))\n",
    "apl = plt.subplot(121)\n",
    "msf = plt.subplot(122)\n",
    "apl.plot(range(0, len(apl_open_orig)), apl_open_orig)\n",
    "msf.plot(range(0, len(msf_open_orig)), msf_open_orig)\n",
    "apl.plot(ba_action_times, bought_apl_at_orig, \"ro\")\n",
    "apl.plot(sa_action_times, sold_apl_at_orig, \"go\")\n",
    "apl.plot(n_action_times, nothing_at, \"yx\")\n",
    "msf.plot(n_action_times, nothing_at, \"yx\")\n",
    "msf.plot(bm_action_times, bought_msf_at_orig, \"ro\")\n",
    "msf.plot(sm_action_times, sold_msf_at_orig, \"go\")"
   ]
  },
  {
   "cell_type": "code",
   "execution_count": null,
   "metadata": {},
   "outputs": [],
   "source": []
  }
 ],
 "metadata": {
  "kernelspec": {
   "display_name": "Python 3",
   "language": "python",
   "name": "python3"
  },
  "language_info": {
   "codemirror_mode": {
    "name": "ipython",
    "version": 3
   },
   "file_extension": ".py",
   "mimetype": "text/x-python",
   "name": "python",
   "nbconvert_exporter": "python",
   "pygments_lexer": "ipython3",
   "version": "3.6.7"
  }
 },
 "nbformat": 4,
 "nbformat_minor": 2
}
